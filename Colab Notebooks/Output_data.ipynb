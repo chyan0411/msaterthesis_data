{
 "cells": [
  {
   "cell_type": "code",
   "execution_count": 1,
   "metadata": {},
   "outputs": [],
   "source": [
    "import csv\n",
    "import numpy as np\n",
    "import matplotlib.pyplot as plt\n",
    "\n",
    "MM = []\n",
    "with open('C:\\\\Users\\\\xiaoc\\\\Documents\\\\thesis\\\\MM.csv') as csv_file:\n",
    "    csv_reader = csv.reader(csv_file, delimiter=',')\n",
    "    line_count = 0\n",
    "   \n",
    "    for row in csv_reader:\n",
    "        MM.append(row)\n",
    "MM = np.array(MM)"
   ]
  },
  {
   "cell_type": "code",
   "execution_count": 2,
   "metadata": {},
   "outputs": [
    {
     "name": "stdout",
     "output_type": "stream",
     "text": [
      "(21, 1512)\n"
     ]
    }
   ],
   "source": [
    "print(MM.shape)"
   ]
  },
  {
   "cell_type": "code",
   "execution_count": 3,
   "metadata": {},
   "outputs": [],
   "source": [
    "\n",
    "M2 = []\n",
    "M3 = []\n",
    "M4 = []\n",
    "# 24个病人 的 对应治疗前  M2，治疗后 M3，FU M4 的 21*21 矩阵\n",
    "for i in range (1,25):\n",
    "    M2.append(MM[:,63*(i-1):63*(i-1)+21])\n",
    "    M3.append(MM[:,63*(i-1)+21:63*(i-1)+42])\n",
    "    M4.append(MM[:,63*(i-1)+42:63*(i-1)+63])\n",
    "\n"
   ]
  },
  {
   "cell_type": "code",
   "execution_count": 19,
   "metadata": {},
   "outputs": [],
   "source": [
    "M1 = np.ones((24,21,21), dtype=float)\n",
    "M1[M1 > 0] = 32\n",
    "M2 = np.array(M2)\n",
    "M3 = np.array(M3)\n",
    "M4 = np.array(M4)\n",
    "# M2 M3 M4 均为  24*21*21  的矩阵  对应24个病人\n",
    "np.save(\"C:\\\\Users\\\\xiaoc\\\\Documents\\\\thesis\\\\output\\\\M1\"  , M1)\n",
    "np.save(\"C:\\\\Users\\\\xiaoc\\\\Documents\\\\thesis\\\\output\\\\M2\"  , M2)\n",
    "np.save(\"C:\\\\Users\\\\xiaoc\\\\Documents\\\\thesis\\\\output\\\\M3\"  , M3)\n",
    "np.save(\"C:\\\\Users\\\\xiaoc\\\\Documents\\\\thesis\\\\output\\\\M4\"  , M4)"
   ]
  },
  {
   "cell_type": "code",
   "execution_count": 27,
   "metadata": {},
   "outputs": [
    {
     "data": {
      "text/plain": [
       "<matplotlib.image.AxesImage at 0x1b7bd6acb38>"
      ]
     },
     "execution_count": 27,
     "metadata": {},
     "output_type": "execute_result"
    },
    {
     "data": {
      "image/png": "[encoded data removed]",
      "text/plain": [
       "<Figure size 432x288 with 1 Axes>"
      ]
     },
     "metadata": {
      "needs_background": "light"
     },
     "output_type": "display_data"
    }
   ],
   "source": [
    "Mm=M2[0].astype(np.float) # conver to float  and plot \n",
    "# %matplotlib qt \n",
    "%matplotlib inline\n",
    "plt.imshow(Mm, cmap='gray')"
   ]
  },
  {
   "cell_type": "code",
   "execution_count": 21,
   "metadata": {},
   "outputs": [
    {
     "name": "stdout",
     "output_type": "stream",
     "text": [
      "(24, 21, 21)\n"
     ]
    }
   ],
   "source": [
    "print(M2.shape)"
   ]
  },
  {
   "cell_type": "code",
   "execution_count": 22,
   "metadata": {},
   "outputs": [
    {
     "name": "stdout",
     "output_type": "stream",
     "text": [
      "(24, 21, 21)\n"
     ]
    }
   ],
   "source": [
    "print(M1.shape)"
   ]
  },
  {
   "cell_type": "code",
   "execution_count": 23,
   "metadata": {},
   "outputs": [
    {
     "data": {
      "text/plain": [
       "<matplotlib.image.AxesImage at 0x1b7bd648400>"
      ]
     },
     "execution_count": 23,
     "metadata": {},
     "output_type": "execute_result"
    },
    {
     "data": {
      "image/png": "[encoded data removed]",
      "text/plain": [
       "<Figure size 432x288 with 1 Axes>"
      ]
     },
     "metadata": {
      "needs_background": "light"
     },
     "output_type": "display_data"
    }
   ],
   "source": [
    "Mm=M1[0].astype(np.float) # conver to float  and plot \n",
    "# %matplotlib qt \n",
    "%matplotlib inline\n",
    "plt.imshow(Mm, cmap='gray')"
   ]
  },
  {
   "cell_type": "code",
   "execution_count": 29,
   "metadata": {},
   "outputs": [
    {
     "name": "stdout",
     "output_type": "stream",
     "text": [
      "['32' '32' '32' '32' '32' '32' '32' '32' '32' '32' '32' '32' '32' '0' '0'\n",
      " '0' '0' '0' '0' '10.667' '0']\n"
     ]
    }
   ],
   "source": [
    "print(M2[0,0,:])"
   ]
  },
  {
   "cell_type": "code",
   "execution_count": null,
   "metadata": {},
   "outputs": [],
   "source": []
  }
 ],
 "metadata": {
  "kernelspec": {
   "display_name": "Python 3",
   "language": "python",
   "name": "python3"
  },
  "language_info": {
   "codemirror_mode": {
    "name": "ipython",
    "version": 3
   },
   "file_extension": ".py",
   "mimetype": "text/x-python",
   "name": "python",
   "nbconvert_exporter": "python",
   "pygments_lexer": "ipython3",
   "version": "3.6.8"
  }
 },
 "nbformat": 4,
 "nbformat_minor": 2
}
